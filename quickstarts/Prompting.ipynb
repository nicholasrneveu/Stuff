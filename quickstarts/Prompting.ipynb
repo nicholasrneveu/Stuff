{
  "cells": [
    {
      "cell_type": "markdown",
      "source": [
        "Degrees to Radians"
      ],
      "metadata": {
        "id": "8bxMRRAZEp14"
      }
    },
    {
      "cell_type": "code",
      "source": [
        "import math"
      ],
      "metadata": {
        "id": "2faK9bTWGU6O"
      },
      "execution_count": 7,
      "outputs": []
    },
    {
      "cell_type": "code",
      "source": [
        "number = input(\"Please enter a number in degrees: \")\n",
        "number = float(number)\n",
        "radnumber = number/2*math.pi\n",
        "radnumber = round(radnumber,1)\n",
        "print(f\"{number} degrees is {radnumber} radians\")"
      ],
      "metadata": {
        "id": "MSq9L0Q5EujK",
        "outputId": "36450138-fa29-41bd-e39c-aed828282f83",
        "colab": {
          "base_uri": "https://localhost:8080/"
        }
      },
      "execution_count": 15,
      "outputs": [
        {
          "output_type": "stream",
          "name": "stdout",
          "text": [
            "Please enter a number in degrees: 54\n",
            "54.0 degrees is 84.8 radians\n"
          ]
        }
      ]
    },
    {
      "cell_type": "code",
      "source": [
        "userlist = input(\"please enter a list of words separated by commas: \")\n",
        "userlist = userlist.split(\", \")\n",
        "userinput = input (\"please enter \"\"alph\"\", \"\"descalph\"\", or \"\"none\"\" to sort your list\")\n",
        "if userinput == \"alph\":\n",
        "    userlist.sort()\n",
        "elif userinput == \"descalph\":\n",
        "    userlist.sort(reverse = True)\n",
        "elif userinput == \"none\":\n",
        "    pass\n",
        "else:\n",
        "    print(\"Invalid input\")\n",
        "print(userlist)"
      ],
      "metadata": {
        "id": "mzSFYEsuH70m",
        "outputId": "ab1f6def-407f-4dfa-c383-1debba43b79a",
        "colab": {
          "base_uri": "https://localhost:8080/"
        }
      },
      "execution_count": 27,
      "outputs": [
        {
          "output_type": "stream",
          "name": "stdout",
          "text": [
            "please enter a list of words separated by commas: apple, chocolate, banana\n",
            "please enter alph, descalph, or none to sort your listnone\n",
            "['apple', 'chocolate', 'banana']\n"
          ]
        }
      ]
    },
    {
      "cell_type": "code",
      "source": [
        "userlist = input(\"Please enter word\")\n",
        "userlist = list(userlist)\n",
        "i=0\n",
        "count = 0\n",
        "length = len(userlist)\n",
        "for i in range(length):\n",
        "  if (userlist[i]) == 'a' or (userlist[i]) == 'e' or (userlist[i]) == 'i' or (userlist[i]) == 'o' or (userlist[i]) == 'u':\n",
        "    count = count + 1\n",
        "    i = i + 1\n",
        "  else:\n",
        "      i = i + 1\n",
        "\n",
        "print(count)\n",
        "\n"
      ],
      "metadata": {
        "id": "2hLuMrd0KytA",
        "outputId": "89dc4804-7c3d-4dc7-f508-287b04a02b2d",
        "colab": {
          "base_uri": "https://localhost:8080/"
        }
      },
      "execution_count": 36,
      "outputs": [
        {
          "output_type": "stream",
          "name": "stdout",
          "text": [
            "Please enter wordantioch\n",
            "3\n"
          ]
        }
      ]
    },
    {
      "cell_type": "code",
      "source": [
        "import random"
      ],
      "metadata": {
        "id": "iFUOcrpyaF68"
      },
      "execution_count": 39,
      "outputs": []
    },
    {
      "cell_type": "code",
      "source": [
        "random_integers = random.randint(1000000000000000, 9999999999999999)\n",
        "random_integers = str(random_integers)\n",
        "security=\"XXXX-XXXX-XXXX-\"+ random_integers[12]+ random_integers[13]+ random_integers[14]+ random_integers[15]\n",
        "print(random_integers)\n",
        "print(security)\n",
        "\n"
      ],
      "metadata": {
        "id": "a6ypgODhZEzX",
        "outputId": "de4b5dc2-cf71-4a16-af35-d092bfc86a68",
        "colab": {
          "base_uri": "https://localhost:8080/"
        }
      },
      "execution_count": 57,
      "outputs": [
        {
          "output_type": "stream",
          "name": "stdout",
          "text": [
            "4707188460884748\n",
            "XXXX-XXXX-XXXX-4748\n"
          ]
        }
      ]
    },
    {
      "cell_type": "markdown",
      "source": [
        "Campsite finding"
      ],
      "metadata": {
        "id": "l2Oz3tRXd7ln"
      }
    },
    {
      "cell_type": "code",
      "source": [
        "import requests\n"
      ],
      "metadata": {
        "id": "LDo7kdAtf48A"
      },
      "execution_count": 60,
      "outputs": []
    },
    {
      "cell_type": "code",
      "source": [
        "!pip install selenium"
      ],
      "metadata": {
        "id": "fqXjZrv-0UII",
        "outputId": "3109644e-9cb6-430c-d0fe-363e41a9bdad",
        "colab": {
          "base_uri": "https://localhost:8080/"
        }
      },
      "execution_count": 74,
      "outputs": [
        {
          "output_type": "stream",
          "name": "stdout",
          "text": [
            "Collecting selenium\n",
            "  Downloading selenium-4.27.1-py3-none-any.whl.metadata (7.1 kB)\n",
            "Requirement already satisfied: urllib3<3,>=1.26 in /usr/local/lib/python3.10/dist-packages (from urllib3[socks]<3,>=1.26->selenium) (2.2.3)\n",
            "Collecting trio~=0.17 (from selenium)\n",
            "  Downloading trio-0.27.0-py3-none-any.whl.metadata (8.6 kB)\n",
            "Collecting trio-websocket~=0.9 (from selenium)\n",
            "  Downloading trio_websocket-0.11.1-py3-none-any.whl.metadata (4.7 kB)\n",
            "Requirement already satisfied: certifi>=2021.10.8 in /usr/local/lib/python3.10/dist-packages (from selenium) (2024.8.30)\n",
            "Requirement already satisfied: typing_extensions~=4.9 in /usr/local/lib/python3.10/dist-packages (from selenium) (4.12.2)\n",
            "Requirement already satisfied: websocket-client~=1.8 in /usr/local/lib/python3.10/dist-packages (from selenium) (1.8.0)\n",
            "Requirement already satisfied: attrs>=23.2.0 in /usr/local/lib/python3.10/dist-packages (from trio~=0.17->selenium) (24.2.0)\n",
            "Collecting sortedcontainers (from trio~=0.17->selenium)\n",
            "  Downloading sortedcontainers-2.4.0-py2.py3-none-any.whl.metadata (10 kB)\n",
            "Requirement already satisfied: idna in /usr/local/lib/python3.10/dist-packages (from trio~=0.17->selenium) (3.10)\n",
            "Collecting outcome (from trio~=0.17->selenium)\n",
            "  Downloading outcome-1.3.0.post0-py2.py3-none-any.whl.metadata (2.6 kB)\n",
            "Requirement already satisfied: sniffio>=1.3.0 in /usr/local/lib/python3.10/dist-packages (from trio~=0.17->selenium) (1.3.1)\n",
            "Requirement already satisfied: exceptiongroup in /usr/local/lib/python3.10/dist-packages (from trio~=0.17->selenium) (1.2.2)\n",
            "Collecting wsproto>=0.14 (from trio-websocket~=0.9->selenium)\n",
            "  Downloading wsproto-1.2.0-py3-none-any.whl.metadata (5.6 kB)\n",
            "Requirement already satisfied: pysocks!=1.5.7,<2.0,>=1.5.6 in /usr/local/lib/python3.10/dist-packages (from urllib3[socks]<3,>=1.26->selenium) (1.7.1)\n",
            "Requirement already satisfied: h11<1,>=0.9.0 in /usr/local/lib/python3.10/dist-packages (from wsproto>=0.14->trio-websocket~=0.9->selenium) (0.14.0)\n",
            "Downloading selenium-4.27.1-py3-none-any.whl (9.7 MB)\n",
            "\u001b[2K   \u001b[90m━━━━━━━━━━━━━━━━━━━━━━━━━━━━━━━━━━━━━━━━\u001b[0m \u001b[32m9.7/9.7 MB\u001b[0m \u001b[31m48.8 MB/s\u001b[0m eta \u001b[36m0:00:00\u001b[0m\n",
            "\u001b[?25hDownloading trio-0.27.0-py3-none-any.whl (481 kB)\n",
            "\u001b[2K   \u001b[90m━━━━━━━━━━━━━━━━━━━━━━━━━━━━━━━━━━━━━━━━\u001b[0m \u001b[32m481.7/481.7 kB\u001b[0m \u001b[31m27.8 MB/s\u001b[0m eta \u001b[36m0:00:00\u001b[0m\n",
            "\u001b[?25hDownloading trio_websocket-0.11.1-py3-none-any.whl (17 kB)\n",
            "Downloading wsproto-1.2.0-py3-none-any.whl (24 kB)\n",
            "Downloading outcome-1.3.0.post0-py2.py3-none-any.whl (10 kB)\n",
            "Downloading sortedcontainers-2.4.0-py2.py3-none-any.whl (29 kB)\n",
            "Installing collected packages: sortedcontainers, wsproto, outcome, trio, trio-websocket, selenium\n",
            "Successfully installed outcome-1.3.0.post0 selenium-4.27.1 sortedcontainers-2.4.0 trio-0.27.0 trio-websocket-0.11.1 wsproto-1.2.0\n"
          ]
        }
      ]
    },
    {
      "cell_type": "code",
      "source": [
        "!pip install webdriver-manager"
      ],
      "metadata": {
        "id": "DmJdQC5F1AA8",
        "outputId": "a260a140-b601-4d34-9971-93831559ca7f",
        "colab": {
          "base_uri": "https://localhost:8080/"
        }
      },
      "execution_count": 79,
      "outputs": [
        {
          "output_type": "stream",
          "name": "stdout",
          "text": [
            "Collecting webdriver-manager\n",
            "  Downloading webdriver_manager-4.0.2-py2.py3-none-any.whl.metadata (12 kB)\n",
            "Requirement already satisfied: requests in /usr/local/lib/python3.10/dist-packages (from webdriver-manager) (2.32.3)\n",
            "Collecting python-dotenv (from webdriver-manager)\n",
            "  Downloading python_dotenv-1.0.1-py3-none-any.whl.metadata (23 kB)\n",
            "Requirement already satisfied: packaging in /usr/local/lib/python3.10/dist-packages (from webdriver-manager) (24.2)\n",
            "Requirement already satisfied: charset-normalizer<4,>=2 in /usr/local/lib/python3.10/dist-packages (from requests->webdriver-manager) (3.4.0)\n",
            "Requirement already satisfied: idna<4,>=2.5 in /usr/local/lib/python3.10/dist-packages (from requests->webdriver-manager) (3.10)\n",
            "Requirement already satisfied: urllib3<3,>=1.21.1 in /usr/local/lib/python3.10/dist-packages (from requests->webdriver-manager) (2.2.3)\n",
            "Requirement already satisfied: certifi>=2017.4.17 in /usr/local/lib/python3.10/dist-packages (from requests->webdriver-manager) (2024.8.30)\n",
            "Downloading webdriver_manager-4.0.2-py2.py3-none-any.whl (27 kB)\n",
            "Downloading python_dotenv-1.0.1-py3-none-any.whl (19 kB)\n",
            "Installing collected packages: python-dotenv, webdriver-manager\n",
            "Successfully installed python-dotenv-1.0.1 webdriver-manager-4.0.2\n"
          ]
        }
      ]
    },
    {
      "cell_type": "code",
      "source": [
        "from bs4 import BeautifulSoup\n",
        "from selenium import webdriver\n",
        "from selenium.webdriver.chrome.service import Service\n",
        "from webdriver_manager.chrome import ChromeDriverManager"
      ],
      "metadata": {
        "id": "IfJKm49K88n_"
      },
      "execution_count": 88,
      "outputs": []
    },
    {
      "cell_type": "code",
      "source": [
        "today = datetime.now()\n",
        "tomorrow = today + timedelta(days=1)\n",
        "days_till_saturday = (5-today.weekday()) % 7\n",
        "saturday = today + timedelta(days=days_till_saturday)\n",
        "print(saturday.strftime(\"%m/%d/%Y\"))\n",
        "\n",
        "url = \"https://www.recreation.gov/camping/campsites/4242\"\n",
        "HEADERS = {\"accept\": \"*/*\",\n",
        "\"accept-encoding\":\"gzip, deflate, br, zstd\",\n",
        "\"accept-language\":\"en-US,en;q=0.9\",\n",
        "\"sec-fetch-dest\":\"empty\",\n",
        "\"sec-fetch-mode\":\"no-cors\",\n",
        "\"sec-fetch-site\":\"cross-site\",\n",
        "\"user-agent\":\"Mozilla/5.0 (Windows NT 10.0; Win64; x64) AppleWebKit/537.36 (KHTML, like Gecko) Chrome/131.0.0.0 Safari/537.36\"\n",
        "}\n",
        "response = requests.get(url, headers=HEADERS)\n",
        "#soup = BeautifulSoup(response.text, \"html.parser\")\n",
        "#group = soup.findAll(\"div\", role=\"rowgroup\")\n",
        "#day = group.find(\"div\", role=\"button\")\n",
        "#print(day)\n",
        "print(html)\n"
      ],
      "metadata": {
        "collapsed": true,
        "id": "-GtGdYLDd-jQ",
        "outputId": "b4ec099e-0faa-48f9-fc7d-d8a16a253a49",
        "colab": {
          "base_uri": "https://localhost:8080/"
        }
      },
      "execution_count": 101,
      "outputs": [
        {
          "output_type": "stream",
          "name": "stdout",
          "text": [
            "12/07/2024\n",
            "None\n"
          ]
        }
      ]
    }
  ],
  "metadata": {
    "colab": {
      "name": "Prompting.ipynb",
      "toc_visible": true,
      "provenance": []
    },
    "google": {
      "image_path": "/static/site-assets/images/docs/logo-python.svg",
      "keywords": [
        "examples",
        "gemini",
        "beginner",
        "googleai",
        "quickstart",
        "python",
        "text",
        "chat",
        "vision",
        "embed"
      ]
    },
    "kernelspec": {
      "display_name": "Python 3",
      "name": "python3"
    }
  },
  "nbformat": 4,
  "nbformat_minor": 0
}